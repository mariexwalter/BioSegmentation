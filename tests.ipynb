{
 "cells": [
  {
   "cell_type": "code",
   "execution_count": null,
   "metadata": {},
   "outputs": [],
   "source": [
    "import datasets\n",
    "import augmentation\n",
    "# test dataset and augmentation\n",
    "dataset = datasets.BreastCancer(\n",
    "            augmentation.default('train', crop_size=300),\n",
    "            \"data/breast_cancer/train/images\",\n",
    "            \".tif\",\n",
    "            \"data/breast_cancer/train/labels\",\n",
    "            \".TIF\",\n",
    "        )\n",
    "\n",
    "            "
   ]
  },
  {
   "cell_type": "code",
   "execution_count": null,
   "metadata": {},
   "outputs": [],
   "source": [
    "import matplotlib.pyplot as plt\n",
    "ctr = 0\n",
    "for image, label in dataset:\n",
    "    _, ax = plt.subplots(1,2)\n",
    "    ax[0].imshow(image.permute([1,2,0]).cpu().numpy())\n",
    "    ax[1].imshow(label[0,...].cpu().numpy())\n",
    "    ctr += 1\n",
    "    #if ctr > 10:\n",
    "    #    break"
   ]
  },
  {
   "cell_type": "code",
   "execution_count": null,
   "metadata": {},
   "outputs": [],
   "source": []
  }
 ],
 "metadata": {
  "kernelspec": {
   "display_name": "bioseg",
   "language": "python",
   "name": "python3"
  },
  "language_info": {
   "codemirror_mode": {
    "name": "ipython",
    "version": 3
   },
   "file_extension": ".py",
   "mimetype": "text/x-python",
   "name": "python",
   "nbconvert_exporter": "python",
   "pygments_lexer": "ipython3",
   "version": "3.8.10"
  },
  "orig_nbformat": 4
 },
 "nbformat": 4,
 "nbformat_minor": 2
}
